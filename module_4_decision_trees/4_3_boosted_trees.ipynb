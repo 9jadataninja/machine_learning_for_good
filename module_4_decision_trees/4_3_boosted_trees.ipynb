{
 "cells": [
  {
   "cell_type": "code",
   "execution_count": 10,
   "metadata": {},
   "outputs": [],
   "source": [
    "import pandas as pd\n",
    "import numpy as np\n",
    "\n",
    "import matplotlib.pyplot as plt\n",
    "import seaborn as sns\n",
    "\n",
    "from sklearn.ensemble import GradientBoostingRegressor\n",
    "from sklearn.ensemble.partial_dependence import plot_partial_dependence\n",
    "\n",
    "from sklearn.model_selection import train_test_split, cross_val_score, GridSearchCV\n",
    "from sklearn.metrics import mean_squared_error, r2_score\n",
    "\n",
    "%matplotlib inline"
   ]
  },
  {
   "cell_type": "code",
   "execution_count": 5,
   "metadata": {},
   "outputs": [],
   "source": [
    "# Load data saved locally\n",
    "path = '../data/'\n",
    "filename = 'loans.csv'\n",
    "df = pd.read_csv(path+filename)"
   ]
  },
  {
   "cell_type": "code",
   "execution_count": 3,
   "metadata": {},
   "outputs": [
    {
     "name": "stdout",
     "output_type": "stream",
     "text": [
      "^C\n"
     ]
    }
   ],
   "source": [
    "# Load data from Github if using colab\n",
    "!git clone https://github.com/DeltaAnalytics/machine_learning_for_good_data\n",
    "df = pd.read_csv(\"machine_learning_for_good_data/loans.csv\")"
   ]
  },
  {
   "cell_type": "code",
   "execution_count": 6,
   "metadata": {},
   "outputs": [],
   "source": [
    "# Drop everything that is not numeric\n",
    "df = df.select_dtypes(exclude=['object'])"
   ]
  },
  {
   "cell_type": "code",
   "execution_count": 7,
   "metadata": {},
   "outputs": [],
   "source": [
    "y_column = 'loan_amount'\n",
    "y = df[y_column]\n",
    "# Drop returns a copy of the DataFrame with the specified columns removed  \n",
    "X = df.drop([y_column, \"id_number\"], axis=1) # id_number will not be helpful"
   ]
  },
  {
   "cell_type": "code",
   "execution_count": 8,
   "metadata": {},
   "outputs": [],
   "source": [
    "# Split data into training and testing sets\n",
    "X_train, X_test, y_train, y_test = train_test_split(X, y, test_size=0.2, random_state=42)"
   ]
  },
  {
   "cell_type": "code",
   "execution_count": 13,
   "metadata": {},
   "outputs": [
    {
     "name": "stdout",
     "output_type": "stream",
     "text": [
      "0.4135702905845625\n",
      "0.3595628480136256\n"
     ]
    }
   ],
   "source": [
    "model = GradientBoostingRegressor(n_estimators = 100, max_depth=3, min_samples_leaf = 1000, learning_rate = 0.1,random_state=1)\n",
    "model.fit(X_train, y_train)\n",
    "print(model.score(X_train, y_train))\n",
    "\n",
    "y_pred = model.predict(X_test)\n",
    "print(model.score(X_test, y_test))"
   ]
  },
  {
   "cell_type": "code",
   "execution_count": 17,
   "metadata": {},
   "outputs": [
    {
     "name": "stdout",
     "output_type": "stream",
     "text": [
      "                importances\n",
      "funded_amount      0.372465\n",
      "repayment_term     0.372102\n",
      "lender_count       0.255433\n"
     ]
    }
   ],
   "source": [
    "importance_df = pd.DataFrame(model.feature_importances_, index = list(X), columns = [\"importances\"])\n",
    "importance_df.sort_values(by = \"importances\", ascending = False, inplace = True)\n",
    "print(importance_df)"
   ]
  },
  {
   "cell_type": "code",
   "execution_count": 21,
   "metadata": {},
   "outputs": [
    {
     "data": {
      "image/png": "[encoded data removed]",
      "text/plain": [
       "<Figure size 1080x180 with 3 Axes>"
      ]
     },
     "metadata": {},
     "output_type": "display_data"
    }
   ],
   "source": [
    "features = [i for i in range(0,len(list(X)))]\n",
    "fig,axs = plot_partial_dependence(model, X_train, features,feature_names = list(X),\n",
    "                                  n_jobs=1, grid_resolution=100)\n",
    "plt.subplots_adjust(bottom=1, right=1, top=2)\n",
    "\n",
    "fig.set_figwidth(15)\n",
    "fig.set_figheight(2.5)"
   ]
  }
 ],
 "metadata": {
  "kernelspec": {
   "display_name": "Python 3",
   "language": "python",
   "name": "python3"
  },
  "language_info": {
   "codemirror_mode": {
    "name": "ipython",
    "version": 3
   },
   "file_extension": ".py",
   "mimetype": "text/x-python",
   "name": "python",
   "nbconvert_exporter": "python",
   "pygments_lexer": "ipython3",
   "version": "3.6.5"
  }
 },
 "nbformat": 4,
 "nbformat_minor": 2
}
